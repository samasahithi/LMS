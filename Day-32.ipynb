{
 "cells": [
  {
   "cell_type": "code",
   "execution_count": 1,
   "id": "bd9ca0ac",
   "metadata": {},
   "outputs": [
    {
     "name": "stdout",
     "output_type": "stream",
     "text": [
      "\n",
      "Top 5 most frequent tokens with Term Frequency (TF):\n",
      "this: 0.0526\n",
      "is: 0.0526\n",
      "file: 0.0526\n",
      "it: 0.0526\n",
      "and: 0.0526\n"
     ]
    },
    {
     "name": "stderr",
     "output_type": "stream",
     "text": [
      "[nltk_data] Downloading package punkt to\n",
      "[nltk_data]     C:\\Users\\saite\\AppData\\Roaming\\nltk_data...\n",
      "[nltk_data]   Package punkt is already up-to-date!\n"
     ]
    }
   ],
   "source": [
    "import nltk\n",
    "from nltk.tokenize import word_tokenize\n",
    "from collections import Counter\n",
    "\n",
    "nltk.download('punkt')\n",
    "\n",
    "def load_text(file_path):\n",
    "    with open(file_path, 'r', encoding='utf-8') as file:\n",
    "        return file.read()\n",
    "\n",
    "def calculate_tf(tokens):\n",
    "    token_count = Counter(tokens)  \n",
    "    total_tokens = len(tokens)   \n",
    "    tf = {word: freq / total_tokens for word, freq in token_count.items()}\n",
    "    return tf\n",
    "\n",
    "def get_top_tokens(tf_dict, n=5):\n",
    "    sorted_tokens = sorted(tf_dict.items(), key=lambda item: item[1], reverse=True)\n",
    "    return sorted_tokens[:n]\n",
    "\n",
    "if __name__ == \"__main__\":\n",
    "    file_path = r\"C:\\Users\\saite\\LMS Assignment\\sample_text.txt\"\n",
    "    \n",
    "    try:\n",
    "        text = load_text(file_path)\n",
    "        \n",
    "        tokens = word_tokenize(text)\n",
    "        \n",
    "        tokens = [word.lower() for word in tokens if word.isalnum()]\n",
    "        \n",
    "        tf = calculate_tf(tokens)\n",
    "        \n",
    "        top_tokens = get_top_tokens(tf, n=5)\n",
    "        \n",
    "        print(\"\\nTop 5 most frequent tokens with Term Frequency (TF):\")\n",
    "        for token, freq in top_tokens:\n",
    "            print(f\"{token}: {freq:.4f}\")\n",
    "    except FileNotFoundError:\n",
    "        print(\"Error: File not found. Please ensure the file exists at the specified path.\")\n"
   ]
  },
  {
   "cell_type": "code",
   "execution_count": null,
   "id": "feaf8123",
   "metadata": {},
   "outputs": [],
   "source": []
  }
 ],
 "metadata": {
  "kernelspec": {
   "display_name": "Python 3 (ipykernel)",
   "language": "python",
   "name": "python3"
  },
  "language_info": {
   "codemirror_mode": {
    "name": "ipython",
    "version": 3
   },
   "file_extension": ".py",
   "mimetype": "text/x-python",
   "name": "python",
   "nbconvert_exporter": "python",
   "pygments_lexer": "ipython3",
   "version": "3.11.4"
  }
 },
 "nbformat": 4,
 "nbformat_minor": 5
}
