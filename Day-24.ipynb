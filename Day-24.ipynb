{
 "cells": [
  {
   "cell_type": "code",
   "execution_count": 2,
   "id": "1700a92a",
   "metadata": {},
   "outputs": [
    {
     "name": "stdout",
     "output_type": "stream",
     "text": [
      "\n",
      "The 10 most common words are:\n",
      "this: 2\n",
      "is: 2\n",
      "file: 2\n",
      "it: 2\n",
      "and: 2\n",
      "the: 2\n",
      "a: 1\n",
      "simple: 1\n",
      "sample: 1\n",
      "text: 1\n"
     ]
    },
    {
     "name": "stderr",
     "output_type": "stream",
     "text": [
      "[nltk_data] Downloading package punkt to\n",
      "[nltk_data]     C:\\Users\\saite\\AppData\\Roaming\\nltk_data...\n",
      "[nltk_data]   Package punkt is already up-to-date!\n"
     ]
    }
   ],
   "source": [
    "import nltk\n",
    "from nltk.tokenize import word_tokenize\n",
    "from collections import Counter\n",
    "\n",
    "nltk.download('punkt')\n",
    "\n",
    "def load_text(file_path):\n",
    "    with open(file_path, 'r', encoding='utf-8') as file:\n",
    "        return file.read()\n",
    "\n",
    "def get_most_common_words(text, n=10):\n",
    "    tokens = word_tokenize(text)\n",
    "    \n",
    "    tokens = [word.lower() for word in tokens if word.isalnum()]\n",
    "    \n",
    "    word_freq = Counter(tokens)\n",
    "    \n",
    "    return word_freq.most_common(n)\n",
    "\n",
    "if __name__ == \"__main__\":\n",
    "    file_path = r\"C:\\Users\\saite\\LMS Assignment\\sample_text.txt\"\n",
    "    \n",
    "    try:\n",
    "        text = load_text(file_path)\n",
    "        \n",
    "        common_words = get_most_common_words(text)\n",
    "        \n",
    "        print(\"\\nThe 10 most common words are:\")\n",
    "        for word, freq in common_words:\n",
    "            print(f\"{word}: {freq}\")\n",
    "    except FileNotFoundError:\n",
    "        print(\"Error: File not found. Please provide a valid file path.\")\n"
   ]
  },
  {
   "cell_type": "code",
   "execution_count": null,
   "id": "4ec782dd",
   "metadata": {},
   "outputs": [],
   "source": []
  }
 ],
 "metadata": {
  "kernelspec": {
   "display_name": "Python 3 (ipykernel)",
   "language": "python",
   "name": "python3"
  },
  "language_info": {
   "codemirror_mode": {
    "name": "ipython",
    "version": 3
   },
   "file_extension": ".py",
   "mimetype": "text/x-python",
   "name": "python",
   "nbconvert_exporter": "python",
   "pygments_lexer": "ipython3",
   "version": "3.11.4"
  }
 },
 "nbformat": 4,
 "nbformat_minor": 5
}
